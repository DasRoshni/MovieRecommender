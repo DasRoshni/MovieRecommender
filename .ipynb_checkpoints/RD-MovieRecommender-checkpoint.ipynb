{
 "cells": [
  {
   "cell_type": "code",
   "execution_count": 29,
   "metadata": {},
   "outputs": [
    {
     "name": "stdout",
     "output_type": "stream",
     "text": [
      "/Users/roshnidas/ml-latest-small.zip\n",
      "Done\n"
     ]
    }
   ],
   "source": [
    "url = 'http://files.grouplens.org/datasets/movielens/ml-latest-small.zip'\n",
    "import os.path\n",
    "\n",
    "folder_path = os.path.join('./', 'ml-latest-small.zip')\n",
    "print(folder_path)\n",
    "\n",
    "import urllib\n",
    "small_f = urllib.request.urlretrieve (url,folder_path)\n",
    "\n",
    "import zipfile\n",
    "with zipfile.ZipFile(folder_path, \"r\") as z:\n",
    "    z.extractall('./')\n",
    "print('Done')"
   ]
  },
  {
   "cell_type": "code",
   "execution_count": 32,
   "metadata": {},
   "outputs": [
    {
     "name": "stdout",
     "output_type": "stream",
     "text": [
      "/Users/roshnidas/ml-latest-small/ratings.csv\n"
     ]
    }
   ],
   "source": [
    "file = os.path.join('/Users/roshnidas', 'ml-latest-small', 'ratings.csv')\n",
    "print(file)\n",
    "raw_data = sc.textFile(file)\n",
    "raw_data_head =raw_data.take(1)[0]"
   ]
  },
  {
   "cell_type": "code",
   "execution_count": 1,
   "metadata": {},
   "outputs": [
    {
     "data": {
      "text/plain": [
       "'/Users/roshnidas/MovieRecommender'"
      ]
     },
     "execution_count": 1,
     "metadata": {},
     "output_type": "execute_result"
    }
   ],
   "source": [
    "pwd"
   ]
  },
  {
   "cell_type": "code",
   "execution_count": 34,
   "metadata": {},
   "outputs": [],
   "source": [
    "ratings_file = os.path.join('/Users/roshnidas', 'ml-latest-small', 'ratings.csv')\n",
    "\n",
    "ratings_raw_data = sc.textFile(ratings_file)\n",
    "ratings_raw_data_head = ratings_raw_data.take(1)[0]"
   ]
  },
  {
   "cell_type": "code",
   "execution_count": 36,
   "metadata": {},
   "outputs": [
    {
     "data": {
      "text/plain": [
       "[('1', '31', '2.5'), ('1', '1029', '3.0'), ('1', '1061', '3.0')]"
      ]
     },
     "execution_count": 36,
     "metadata": {},
     "output_type": "execute_result"
    }
   ],
   "source": [
    "ratings_data = raw_data.filter(lambda line: line!=ratings_raw_data_head).map(lambda line: line.split(\",\")).map(lambda tokens: (tokens[0],tokens[1],tokens[2])).cache()\n",
    "ratings_data.take(3)"
   ]
  },
  {
   "cell_type": "code",
   "execution_count": 38,
   "metadata": {},
   "outputs": [
    {
     "data": {
      "text/plain": [
       "[('1', 'Toy Story (1995)'),\n",
       " ('2', 'Jumanji (1995)'),\n",
       " ('3', 'Grumpier Old Men (1995)')]"
      ]
     },
     "execution_count": 38,
     "metadata": {},
     "output_type": "execute_result"
    }
   ],
   "source": [
    "movies_file = os.path.join('/Users/roshnidas', 'ml-latest-small', 'movies.csv')\n",
    "\n",
    "movies_raw_data = sc.textFile(movies_file)\n",
    "movies_raw_data_head = movies_raw_data.take(1)[0]\n",
    "\n",
    "movies_data = movies_raw_data.filter(lambda line: line!=movies_raw_data_head).map(lambda line: line.split(\",\")).map(lambda tokens: (tokens[0],tokens[1])).cache()\n",
    "    \n",
    "movies_data.take(3)"
   ]
  },
  {
   "cell_type": "code",
   "execution_count": null,
   "metadata": {},
   "outputs": [],
   "source": []
  }
 ],
 "metadata": {
  "kernelspec": {
   "display_name": "Python 3",
   "language": "python",
   "name": "python3"
  },
  "language_info": {
   "codemirror_mode": {
    "name": "ipython",
    "version": 3
   },
   "file_extension": ".py",
   "mimetype": "text/x-python",
   "name": "python",
   "nbconvert_exporter": "python",
   "pygments_lexer": "ipython3",
   "version": "3.6.5"
  }
 },
 "nbformat": 4,
 "nbformat_minor": 2
}
